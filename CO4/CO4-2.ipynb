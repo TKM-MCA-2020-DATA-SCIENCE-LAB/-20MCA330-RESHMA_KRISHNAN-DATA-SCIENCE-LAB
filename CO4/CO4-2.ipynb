{
  "cells": [
    {
      "cell_type": "code",
      "execution_count": 1,
      "metadata": {
        "id": "S3eYsiX56LZE"
      },
      "outputs": [],
      "source": [
        "import tensorflow as tf\n",
        "from tensorflow.keras import datasets,layers,models\n",
        "import matplotlib.pyplot as plt\n",
        "import numpy as np\n",
        "from sklearn.metrics import classification_report\n"
      ]
    },
    {
      "cell_type": "code",
      "execution_count": 2,
      "metadata": {
        "colab": {
          "base_uri": "https://localhost:8080/"
        },
        "id": "ztMiBBpX6zDd",
        "outputId": "cb555663-a912-440a-aaa7-b1478b25c64e"
      },
      "outputs": [
        {
          "output_type": "stream",
          "name": "stdout",
          "text": [
            "Downloading data from https://www.cs.toronto.edu/~kriz/cifar-10-python.tar.gz\n",
            "170500096/170498071 [==============================] - 4s 0us/step\n",
            "170508288/170498071 [==============================] - 4s 0us/step\n"
          ]
        }
      ],
      "source": [
        "(X_train, Y_train), (X_test, Y_test) = datasets.cifar10.load_data()"
      ]
    },
    {
      "cell_type": "code",
      "execution_count": 3,
      "metadata": {
        "colab": {
          "base_uri": "https://localhost:8080/"
        },
        "id": "SYXgJylr7AxL",
        "outputId": "561be215-6bbd-4200-a69f-b3beb73a42d9"
      },
      "outputs": [
        {
          "output_type": "execute_result",
          "data": {
            "text/plain": [
              "(50000, 32, 32, 3)"
            ]
          },
          "metadata": {},
          "execution_count": 3
        }
      ],
      "source": [
        "X_train.shape"
      ]
    },
    {
      "cell_type": "code",
      "execution_count": 5,
      "metadata": {
        "colab": {
          "base_uri": "https://localhost:8080/"
        },
        "id": "c5JZoCwP7Fj-",
        "outputId": "657ac373-ed6f-4e1a-d286-28e7dcf93378"
      },
      "outputs": [
        {
          "output_type": "execute_result",
          "data": {
            "text/plain": [
              "(10000, 32, 32, 3)"
            ]
          },
          "metadata": {},
          "execution_count": 5
        }
      ],
      "source": [
        "X_test.shape"
      ]
    },
    {
      "cell_type": "code",
      "execution_count": 6,
      "metadata": {
        "id": "HHUGFsPn7HPQ"
      },
      "outputs": [],
      "source": [
        "classes = ['airplane', 'automobile', 'bird', 'cat', 'deer', 'dog', 'frog', 'horse', 'ship', 'truck']"
      ]
    },
    {
      "cell_type": "code",
      "execution_count": 7,
      "metadata": {
        "id": "FA2MXEZo7d5L"
      },
      "outputs": [],
      "source": [
        "def plot_sample(x,y,index):\n",
        "  plt.figure(figsize=(12,2))\n",
        "  plt.imshow(x[index])\n",
        "  plt.xlabel(y[index])"
      ]
    },
    {
      "cell_type": "code",
      "execution_count": 8,
      "metadata": {
        "colab": {
          "base_uri": "https://localhost:8080/",
          "height": 228
        },
        "id": "cXVHx8bz71Z0",
        "outputId": "5b86f465-8a77-482a-fdbe-525b35040abf"
      },
      "outputs": [
        {
          "output_type": "stream",
          "name": "stderr",
          "text": [
            "/usr/local/lib/python3.7/dist-packages/matplotlib/text.py:1165: FutureWarning: elementwise comparison failed; returning scalar instead, but in the future will perform elementwise comparison\n",
            "  if s != self._text:\n"
          ]
        },
        {
          "output_type": "display_data",
          "data": {
            "image/png": "[encoded data removed]",
            "text/plain": [
              "<Figure size 864x144 with 1 Axes>"
            ]
          },
          "metadata": {
            "needs_background": "light"
          }
        }
      ],
      "source": [
        "plot_sample(X_train,Y_train,2)"
      ]
    },
    {
      "cell_type": "code",
      "execution_count": 9,
      "metadata": {
        "id": "DU_vrf5579Ox"
      },
      "outputs": [],
      "source": [
        "#Normalization\n",
        "\n",
        "X_train = X_train/255\n",
        "X_test = X_test/255"
      ]
    },
    {
      "cell_type": "code",
      "execution_count": 10,
      "metadata": {
        "id": "C_SGJJlj8haj"
      },
      "outputs": [],
      "source": [
        "cnn = models.Sequential([layers.Conv2D(filters = 32, activation = 'relu', kernel_size = (3,3), input_shape = (32,32,3)),\n",
        "                         layers.MaxPooling2D((2,2)),\n",
        "                         \n",
        "                         layers.Conv2D(filters = 32, activation = 'relu', kernel_size = (3,3), input_shape = (32,32,3)),\n",
        "                         layers.MaxPooling2D((2,2)),\n",
        "\n",
        "                         #Classification\n",
        "                         layers.Flatten(),\n",
        "                         layers.Dense(64, activation = 'relu'),\n",
        "                         layers.Dense(10, activation = 'softmax' )\n",
        "                         ])"
      ]
    },
    {
      "cell_type": "code",
      "execution_count": 11,
      "metadata": {
        "id": "NMRwiKOa9pao"
      },
      "outputs": [],
      "source": [
        "cnn.compile(optimizer='SGD', loss='sparse_categorical_crossentropy', metrics=['accuracy']) #sparse categorical, o/p names as 1,2 3,..,10 for if no. of classes=10"
      ]
    },
    {
      "cell_type": "code",
      "execution_count": 17,
      "metadata": {
        "colab": {
          "base_uri": "https://localhost:8080/"
        },
        "id": "mqrud04l-XfY",
        "outputId": "a54b21c2-136e-4180-cbce-d10257ceb30c"
      },
      "outputs": [
        {
          "output_type": "stream",
          "name": "stdout",
          "text": [
            "Epoch 1/5\n",
            "1563/1563 [==============================] - 48s 31ms/step - loss: 0.4253 - accuracy: 0.8520\n",
            "Epoch 2/5\n",
            "1563/1563 [==============================] - 47s 30ms/step - loss: 0.4145 - accuracy: 0.8565\n",
            "Epoch 3/5\n",
            "1563/1563 [==============================] - 48s 31ms/step - loss: 0.4048 - accuracy: 0.8581\n",
            "Epoch 4/5\n",
            "1563/1563 [==============================] - 48s 31ms/step - loss: 0.3910 - accuracy: 0.8637\n",
            "Epoch 5/5\n",
            "1563/1563 [==============================] - 48s 31ms/step - loss: 0.3842 - accuracy: 0.8659\n"
          ]
        },
        {
          "output_type": "execute_result",
          "data": {
            "text/plain": [
              "<keras.callbacks.History at 0x7f729fe582d0>"
            ]
          },
          "metadata": {},
          "execution_count": 17
        }
      ],
      "source": [
        "cnn.fit(X_train,Y_train,epochs=5)"
      ]
    },
    {
      "cell_type": "code",
      "execution_count": 18,
      "metadata": {
        "id": "M68yhyDE-u7h"
      },
      "outputs": [],
      "source": [
        "y_pred=cnn.predict(X_test)"
      ]
    },
    {
      "cell_type": "code",
      "execution_count": 19,
      "metadata": {
        "id": "FxpmjywD-1F6"
      },
      "outputs": [],
      "source": [
        "Y_test=Y_test.reshape(-1,)\n",
        "y_pred=cnn.predict(X_test)"
      ]
    },
    {
      "cell_type": "code",
      "execution_count": 20,
      "metadata": {
        "id": "DDSWQ9Xd_Al2",
        "colab": {
          "base_uri": "https://localhost:8080/"
        },
        "outputId": "2067159f-2729-43d5-f1cd-3e7b7448c7db"
      },
      "outputs": [
        {
          "output_type": "stream",
          "name": "stdout",
          "text": [
            "Classification report:\n",
            "               precision    recall  f1-score   support\n",
            "\n",
            "           0       0.69      0.70      0.70      1000\n",
            "           1       0.84      0.72      0.78      1000\n",
            "           2       0.52      0.64      0.57      1000\n",
            "           3       0.56      0.46      0.50      1000\n",
            "           4       0.60      0.63      0.62      1000\n",
            "           5       0.70      0.42      0.53      1000\n",
            "           6       0.74      0.78      0.76      1000\n",
            "           7       0.61      0.81      0.70      1000\n",
            "           8       0.83      0.73      0.78      1000\n",
            "           9       0.68      0.81      0.74      1000\n",
            "\n",
            "    accuracy                           0.67     10000\n",
            "   macro avg       0.68      0.67      0.67     10000\n",
            "weighted avg       0.68      0.67      0.67     10000\n",
            "\n"
          ]
        }
      ],
      "source": [
        "y_classes=[np.argmax(element) for element in y_pred]\n",
        "print(\"Classification report:\\n\",classification_report(Y_test,y_classes))"
      ]
    }
  ],
  "metadata": {
    "colab": {
      "collapsed_sections": [],
      "name": "CO4_2.ipynb",
      "provenance": []
    },
    "kernelspec": {
      "display_name": "Python 3",
      "name": "python3"
    },
    "language_info": {
      "name": "python"
    }
  },
  "nbformat": 4,
  "nbformat_minor": 0
}